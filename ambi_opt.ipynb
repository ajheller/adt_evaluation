{
  "nbformat": 4,
  "nbformat_minor": 0,
  "metadata": {
    "colab": {
      "name": "ambi_opt.ipynb",
      "provenance": [],
      "authorship_tag": "ABX9TyNmzyXfShW48GRxzqj8MoJz",
      "include_colab_link": true
    },
    "kernelspec": {
      "name": "python3",
      "display_name": "Python 3"
    }
  },
  "cells": [
    {
      "cell_type": "markdown",
      "metadata": {
        "id": "view-in-github",
        "colab_type": "text"
      },
      "source": [
        "<a href=\"https://colab.research.google.com/github/ajheller/adt_evaluation/blob/master/ambi_opt.ipynb\" target=\"_parent\"><img src=\"https://colab.research.google.com/assets/colab-badge.svg\" alt=\"Open In Colab\"/></a>"
      ]
    },
    {
      "cell_type": "code",
      "metadata": {
        "id": "At9o_u3kb4Kq",
        "colab_type": "code",
        "colab": {}
      },
      "source": [
        "# mount your google drive for persistent storage\n"
      ],
      "execution_count": null,
      "outputs": []
    }
  ]
}